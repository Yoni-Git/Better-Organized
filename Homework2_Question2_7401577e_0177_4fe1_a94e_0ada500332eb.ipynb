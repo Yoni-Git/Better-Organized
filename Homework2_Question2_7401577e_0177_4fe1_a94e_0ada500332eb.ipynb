{
  "nbformat": 4,
  "nbformat_minor": 0,
  "metadata": {
    "colab": {
      "provenance": [],
      "authorship_tag": "ABX9TyPhCFlp29MG58wMnKRpEBn8",
      "include_colab_link": true
    },
    "kernelspec": {
      "name": "python3",
      "display_name": "Python 3"
    },
    "language_info": {
      "name": "python"
    }
  },
  "cells": [
    {
      "cell_type": "markdown",
      "metadata": {
        "id": "view-in-github",
        "colab_type": "text"
      },
      "source": [
        "<a href=\"https://colab.research.google.com/github/Yoni-Git/Better-Organized/blob/master/Homework2_Question2_7401577e_0177_4fe1_a94e_0ada500332eb.ipynb\" target=\"_parent\"><img src=\"https://colab.research.google.com/assets/colab-badge.svg\" alt=\"Open In Colab\"/></a>"
      ]
    },
    {
      "cell_type": "code",
      "execution_count": 3,
      "metadata": {
        "colab": {
          "base_uri": "https://localhost:8080/"
        },
        "id": "LxbbI-lwsLaQ",
        "outputId": "bad7cd06-4a89-4616-8074-101b54c25636"
      },
      "outputs": [
        {
          "output_type": "stream",
          "name": "stdout",
          "text": [
            "Per-depth (mean, std):\n",
            " depth=1: mean=0.9665, std=0.0218\n",
            " depth=2: mean=0.9595, std=0.0297\n",
            " depth=3: mean=0.9701, std=0.0224\n",
            " depth=4: mean=0.9683, std=0.0249\n",
            " depth=5: mean=0.9683, std=0.0192\n",
            "Saved plot to: q2_adaboost_accuracy_vs_depth.png\n"
          ]
        }
      ],
      "source": [
        "import numpy as np\n",
        "import matplotlib.pyplot as plt\n",
        "from sklearn.model_selection import KFold, cross_val_score\n",
        "from sklearn.tree import DecisionTreeClassifier\n",
        "from sklearn.ensemble import AdaBoostClassifier\n",
        "from sklearn.datasets import load_breast_cancer\n",
        "\n",
        "def run_adaboost_depth_sweep(depths = [1,2,3,4,5], n_estimators=50, cv_folds=10, seed=123):\n",
        "    data = load_breast_cancer()\n",
        "    X, y = data.data, data.target\n",
        "    kf = KFold(n_splits=cv_folds, shuffle=True, random_state=seed)\n",
        "    acc_means, acc_stds = [], []\n",
        "    for d in depths:\n",
        "        dt = DecisionTreeClassifier(max_depth=d, random_state=seed)\n",
        "        try:\n",
        "            clf = AdaBoostClassifier(estimator=dt, n_estimators=n_estimators, random_state=seed)\n",
        "        except TypeError:\n",
        "            clf = AdaBoostClassifier(base_estimator=dt, n_estimators=n_estimators, random_state=seed)\n",
        "        scores = cross_val_score(clf, X, y, cv=kf, scoring=\"accuracy\")\n",
        "        acc_means.append(float(np.mean(scores)))\n",
        "        acc_stds.append(float(np.std(scores)))\n",
        "    return {\"depths\": depths, \"acc_means\": acc_means, \"acc_stds\": acc_stds}\n",
        "\n",
        "def plot_acc_vs_depth(res: dict, out_path: str = \"q2_adaboost_accuracy_vs_depth.png\") -> None:\n",
        "    plt.figure()\n",
        "    plt.plot(res[\"depths\"], res[\"acc_means\"], marker=\"o\")\n",
        "    plt.xlabel(\"Decision tree depth (base learner)\")\n",
        "    plt.ylabel(\"10-fold CV accuracy\")\n",
        "    plt.title(\"Problem 2: AdaBoost accuracy vs base tree depth\")\n",
        "    plt.savefig(out_path, bbox_inches=\"tight\")\n",
        "    plt.close()\n",
        "    print(f\"Saved plot to: {out_path}\")\n",
        "\n",
        "if __name__ == \"__main__\":\n",
        "    res = run_adaboost_depth_sweep()\n",
        "    print(\"Per-depth (mean, std):\")\n",
        "    for d, m, s in zip(res[\"depths\"], res[\"acc_means\"], res[\"acc_stds\"]):\n",
        "        print(f\" depth={d}: mean={m:.4f}, std={s:.4f}\")\n",
        "    plot_acc_vs_depth(res)\n"
      ]
    }
  ]
}